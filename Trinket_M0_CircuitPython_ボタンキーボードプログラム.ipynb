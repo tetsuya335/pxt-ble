{
  "cells": [
    {
      "cell_type": "markdown",
      "metadata": {
        "id": "view-in-github",
        "colab_type": "text"
      },
      "source": [
        "<a href=\"https://colab.research.google.com/github/tetsuya335/pxt-ble/blob/master/Trinket_M0_CircuitPython_%E3%83%9C%E3%82%BF%E3%83%B3%E3%82%AD%E3%83%BC%E3%83%9C%E3%83%BC%E3%83%89%E3%83%97%E3%83%AD%E3%82%B0%E3%83%A9%E3%83%A0.ipynb\" target=\"_parent\"><img src=\"https://colab.research.google.com/assets/colab-badge.svg\" alt=\"Open In Colab\"/></a>"
      ]
    },
    {
      "cell_type": "code",
      "source": [
        "import board\n",
        "import digitalio\n",
        "import time\n",
        "import usb_hid\n",
        "from adafruit_hid.keyboard import Keyboard\n",
        "from adafruit_hid.keycode import Keycode\n",
        "\n",
        "# --- ピン定義 ---\n",
        "# 黄色いボタンが接続されているピン (CコードのPIN_BUTTON_YEL 0に対応)\n",
        "PIN_BUTTON_YEL = board.D0\n",
        "# 赤いボタンが接続されているピン (CコードのPIN_BUTTON_RED 2に対応)\n",
        "PIN_BUTTON_RED = board.D2\n",
        "\n",
        "# ボタンのチャタリング防止のためのタイムアウト時間 (ミリ秒)\n",
        "# CコードのTIMEOUT 500 msecに対応\n",
        "DEBOUNCE_TIMEOUT_MS = 500\n",
        "\n",
        "# --- デジタル入力のセットアップ ---\n",
        "# 黄色いボタンのピンをプルアップ抵抗付きの入力として設定\n",
        "button_yel = digitalio.DigitalInOut(PIN_BUTTON_YEL)\n",
        "button_yel.direction = digitalio.Direction.INPUT\n",
        "button_yel.pull = digitalio.Pull.UP # ボタンが押されるとLOWになるようにプルアップ\n",
        "\n",
        "# 赤いボタンのピンをプルアップ抵抗付きの入力として設定\n",
        "button_red = digitalio.DigitalInOut(PIN_BUTTON_RED)\n",
        "button_red.direction = digitalio.Direction.INPUT\n",
        "button_red.pull = digitalio.Pull.UP # ボタンが押されるとLOWになるようにプルアップ\n",
        "\n",
        "# --- USBキーボードのセットアップ ---\n",
        "# USB HIDキーボードオブジェクトを作成\n",
        "keyboard = Keyboard(usb_hid.devices)\n",
        "\n",
        "# --- 状態変数 ---\n",
        "# 各ボタンが現在押されている状態かどうかを追跡\n",
        "button_yel_pressed_state = False\n",
        "button_red_pressed_state = False\n",
        "\n",
        "# 各ボタンの最後に押された時刻を記録 (チャタリング防止用)\n",
        "button_yel_last_press_time = 0\n",
        "button_red_last_press_time = 0\n",
        "\n",
        "# --- メインループ ---\n",
        "while True:\n",
        "    current_time_ms = time.monotonic() * 1000 # 現在時刻をミリ秒で取得\n",
        "\n",
        "    # --- 黄色いボタンの処理 ---\n",
        "    if button_yel_pressed_state:\n",
        "        # ボタンが押された状態の場合、タイムアウトが経過したか確認\n",
        "        if current_time_ms > button_yel_last_press_time + DEBOUNCE_TIMEOUT_MS:\n",
        "            button_yel_pressed_state = False # 状態をリセット\n",
        "    else:\n",
        "        # ボタンが押されていない状態の場合、物理的にボタンが押されたか確認 (LOWは押された状態)\n",
        "        if not button_yel.value: # button_yel.valueがFalseならボタンが押されている\n",
        "            button_yel_pressed_state = True # 状態を「押された」に設定\n",
        "            button_yel_last_press_time = current_time_ms # 押された時刻を記録\n",
        "            print(\"黄色いボタンが押されました: Windows-F4\")\n",
        "            # Windows-F4 ショートカットを送信 (Skypeのミュート切り替えなど)\n",
        "            keyboard.press(Keycode.GUI, Keycode.F4)\n",
        "            keyboard.release_all() # 全てのキーをリリース\n",
        "\n",
        "    # --- 赤いボタンの処理 ---\n",
        "    if button_red_pressed_state:\n",
        "        # ボタンが押された状態の場合、タイムアウトが経過したか確認\n",
        "        if current_time_ms > button_red_last_press_time + DEBOUNCE_TIMEOUT_MS:\n",
        "            button_red_pressed_state = False # 状態をリセット\n",
        "    else:\n",
        "        # ボタンが押されていない状態の場合、物理的にボタンが押されたか確認 (LOWは押された状態)\n",
        "        if not button_red.value: # button_red.valueがFalseならボタンが押されている\n",
        "            button_red_pressed_state = True # 状態を「押された」に設定\n",
        "            button_red_last_press_time = current_time_ms # 押された時刻を記録\n",
        "            print(\"赤いボタンが押されました: Windows-L\")\n",
        "            # Windows-L ショートカットを送信 (画面ロック)\n",
        "            keyboard.press(Keycode.GUI, Keycode.L)\n",
        "            keyboard.release_all() # 全てのキーをリリース\n",
        "\n",
        "    # CPU使用率を抑えるために短い遅延を入れる\n",
        "    time.sleep(0.01)"
      ],
      "outputs": [],
      "execution_count": null,
      "metadata": {
        "id": "K6TWziO1DEzJ"
      }
    }
  ],
  "metadata": {
    "colab": {
      "provenance": [],
      "include_colab_link": true
    },
    "kernelspec": {
      "display_name": "Python 3",
      "name": "python3"
    }
  },
  "nbformat": 4,
  "nbformat_minor": 0
}